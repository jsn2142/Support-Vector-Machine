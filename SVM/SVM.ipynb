{
 "cells": [
  {
   "cell_type": "code",
   "execution_count": null,
   "metadata": {},
   "outputs": [],
   "source": [
    "import pandas as pd  \n",
    "import numpy as np  \n",
    "import matplotlib.pyplot as plt  \n",
    "%matplotlib inline\n",
    "\n",
    "dataset = pd.read_csv(\"ratings_small.csv\")\n",
    "\n",
    "dataset[\"ratingNew\"]=np.where(dataset[\"rating\"]<=2.5,0,1)\n",
    "dataset=dataset[[\n",
    "    \"userId\",\n",
    "    \"movieId\",\n",
    "    \"ratingNew\"\n",
    "]].dropna(axis=0, how='any')\n",
    "X = dataset.iloc[:, 0:2].values  \n",
    "y = dataset.iloc[:, 2].values\n",
    "print(\"Values of rating after conversion: \")\n",
    "print(y)\n",
    "\n",
    "X = dataset.drop('ratingNew', axis=1)  \n",
    "y = dataset['ratingNew']  \n",
    "\n",
    "from sklearn.model_selection import train_test_split  \n",
    "X_train, X_test, y_train, y_test = train_test_split(X, y, test_size = 0.33)  \n",
    "\n",
    "from sklearn.svm import SVC  \n",
    "svclassifier = SVC(kernel='linear')  \n",
    "svclassifier.fit(X_train, y_train)  \n",
    "\n",
    "# precision, recall, f1-score, support\n",
    "predict_y = svclassifier.predict(X_test) \n",
    "from sklearn.metrics import classification_report, confusion_matrix, accuracy_score\n",
    "print(confusion_matrix(y_test,predict_y))  \n",
    "print(classification_report(y_test,predict_y))\n",
    "print(\"Accuracy: \")\n",
    "print(round(accuracy_score(y_test,predict_y)*100,2),\"%\")"
   ]
  },
  {
   "cell_type": "code",
   "execution_count": null,
   "metadata": {},
   "outputs": [],
   "source": [
    "print(\"Showing the predicted values for ratingNew: \")\n",
    "print(predict_y)"
   ]
  },
  {
   "cell_type": "code",
   "execution_count": null,
   "metadata": {},
   "outputs": [],
   "source": []
  }
 ],
 "metadata": {
  "kernelspec": {
   "display_name": "Python 3",
   "language": "python",
   "name": "python3"
  },
  "language_info": {
   "codemirror_mode": {
    "name": "ipython",
    "version": 3
   },
   "file_extension": ".py",
   "mimetype": "text/x-python",
   "name": "python",
   "nbconvert_exporter": "python",
   "pygments_lexer": "ipython3",
   "version": "3.7.1"
  }
 },
 "nbformat": 4,
 "nbformat_minor": 2
}
